{
 "cells": [
  {
   "cell_type": "code",
   "execution_count": 95,
   "id": "5e8a9fb6-03f9-4965-ab2f-2ccc76fc4ae4",
   "metadata": {},
   "outputs": [],
   "source": [
    "#%% Libraries\n",
    "import pandas as pd\n",
    "import matplotlib.pyplot as plt\n",
    "import numpy as np\n",
    "\n",
    "#%% Importing Data\n",
    "fd = pd.read_csv('/Users/natehayward/Desktop/venv/data/flights.csv')\n",
    "wd = pd.read_csv('/Users/natehayward/Desktop/venv/data/weather.csv')\n",
    "wp = weather_data_pd.to_numpy()\n"
   ]
  },
  {
   "cell_type": "code",
   "execution_count": 25,
   "id": "e9837a97-531b-44a3-8c6f-f234028c3f32",
   "metadata": {},
   "outputs": [
    {
     "name": "stdout",
     "output_type": "stream",
     "text": [
      "Q1: 2113\n"
     ]
    }
   ],
   "source": [
    "#Question 1 How many flights were there from JFK to SLC? Int\n",
    "JFK_SLC_count = fd[(fd['origin']== 'JFK') & (fd['dest'] == 'SLC')].shape[0]\n",
    "\n",
    "print('Q1:', JFK_SLC_count)"
   ]
  },
  {
   "cell_type": "code",
   "execution_count": 30,
   "id": "dc96e85c-e6c7-401e-a828-90ba5e69121c",
   "metadata": {},
   "outputs": [
    {
     "name": "stdout",
     "output_type": "stream",
     "text": [
      "Q2: 2\n"
     ]
    }
   ],
   "source": [
    "#Question 2 How many airlines fly to SLC? Should be int\n",
    "AL_SLC_count = fd[fd['dest']== 'SLC']['carrier'].nunique()\n",
    "\n",
    "print('Q2:', AL_SLC_count)"
   ]
  },
  {
   "cell_type": "code",
   "execution_count": 32,
   "id": "f66503df-7765-4f2a-bd9e-d7533f785a3c",
   "metadata": {},
   "outputs": [
    {
     "name": "stdout",
     "output_type": "stream",
     "text": [
      "Q3: 10.052380952380952\n"
     ]
    }
   ],
   "source": [
    "#Question 3 What is the average arrival delay for flights to RDU? float\n",
    "\n",
    "avg_delay_RDU = fd[fd['dest']=='RDU']['arr_delay'].mean()\n",
    "\n",
    "print('Q3:', avg_delay_RDU)"
   ]
  },
  {
   "cell_type": "code",
   "execution_count": 131,
   "id": "dcd469b9-0bd8-4934-8dd6-3029339cbd1e",
   "metadata": {},
   "outputs": [
    {
     "name": "stdout",
     "output_type": "stream",
     "text": [
      "Q4: 53.326535814427736 % of flights to SEA come from LGA or JFK\n"
     ]
    }
   ],
   "source": [
    "#Question 4 What proportion of flights to SEA come from the two NYC airports (LGA and JFK)?  float\n",
    "\n",
    "seattle_NYC = fd[(fd['dest'] == 'SEA') & ((fd['origin'] == 'LGA') | (fd['origin'] == 'JFK'))].shape[0]\n",
    "total_seattle = fd[(fd['dest'] == 'SEA')].shape[0]\n",
    "\n",
    "print('Q4:', seattle_NYC/total_seattle * 100, '% of flights to SEA come from LGA or JFK')"
   ]
  },
  {
   "cell_type": "code",
   "execution_count": 77,
   "id": "27636aa2-6b79-48c4-ac38-b5a9c1ec781c",
   "metadata": {},
   "outputs": [
    {
     "name": "stdout",
     "output_type": "stream",
     "text": [
      "Q5: The date with the largest delay is 2013/03/08, and the associated delay time is 83.5369211514393\n"
     ]
    }
   ],
   "source": [
    "#Question 5 Which date has the largest average depature delay? Pd slice with date and float\n",
    "#please make date a column. Preferred format is 2013/1/1 (y/m/d)\n",
    "\n",
    "fd['date'] = pd.to_datetime(fd[['year', 'month', 'day']]) #Create date column\n",
    "fd['date'] = fd['date'].dt.strftime('%Y/%m/%d') #Format date column to (y/m/d)\n",
    "\n",
    "dep_delay_avg = fd.groupby('date')['dep_delay'].mean() #Group data on dates and calculate mean departure delay\n",
    "\n",
    "date_max_dep_delay = dep_delay_avg.idxmax() #gives date of max value for date\n",
    "max_dep_delay_time = delay_avg.max() #gives max value on that date \n",
    "\n",
    "print(f'Q5: The date with the largest average departure delay is {date_max_dep_delay}, and the associated delay time is {max_dep_delay_time}')"
   ]
  },
  {
   "cell_type": "code",
   "execution_count": 80,
   "id": "4b41d142-4638-4dff-8ab8-57672762dd4a",
   "metadata": {},
   "outputs": [
    {
     "name": "stdout",
     "output_type": "stream",
     "text": [
      "Q6: The date with the largest average arrival delay is 2013/03/08, and the associated delay time is 85.86215538847118\n"
     ]
    }
   ],
   "source": [
    "#Question 6 Which date has the largest average arrival delay? pd slice with date and float\n",
    "\n",
    "arr_delay_avg = fd.groupby('date')['arr_delay'].mean()\n",
    "\n",
    "date_max_arr_delay = arr_delay_avg.idxmax()\n",
    "max_arr_delay_time = arr_delay_avg.max()\n",
    "\n",
    "print(f'Q6: The date with the largest average arrival delay is {date_max_arr_delay}, and the associated delay time is {max_arr_delay_time}')"
   ]
  },
  {
   "cell_type": "code",
   "execution_count": 93,
   "id": "c8be55e1-0958-42d8-a897-bed1d4f6a894",
   "metadata": {},
   "outputs": [
    {
     "name": "stdout",
     "output_type": "stream",
     "text": [
      "Q7:\n",
      "\n",
      "The tail number of the fastest flight is tailnum    N666DN\n",
      "Name: 216447, dtype: object\n",
      "\n",
      "The speed of the fastest flight is speed    11.723077\n",
      "Name: 216447, dtype: object\n"
     ]
    }
   ],
   "source": [
    "#Question 7 Which flight departing LGA or JFK in 2013 flew the fastest? pd slice with tailnumber and speed\n",
    "#speed = distance/airtime\n",
    "\n",
    "fd['speed'] = fd['distance']/fd['air_time'] #Create speed column \n",
    "                                          \n",
    "origin_filter = fd[(fd['year'] == 2013) & ((fd['origin'] == 'LGA') | (fd['origin'] == 'JFK'))] #Filter only LGA/JFK and 2013 as year\n",
    "\n",
    "fast_flight_tail = origin_filter.loc[origin_filter['speed'].idxmax(),['tailnum']] #Find tail number where speed is max\n",
    "fast_flight_speed = origin_filter.loc[origin_filter['speed'].idxmax(),['speed']] #Find speed value where speed is max\n",
    "\n",
    "print(f'Q7:\\n\\nThe tail number of the fastest flight is {fast_flight_tail}\\n\\nThe speed of the fastest flight is {fast_flight_speed}')\n",
    "#max_speed = origin_filter.idmax()\n"
   ]
  },
  {
   "cell_type": "code",
   "execution_count": 94,
   "id": "9f511c97-cf83-4b7e-b165-5cda25d7fa88",
   "metadata": {},
   "outputs": [],
   "source": [
    "#Question 8 Replace all nans in the weather pd dataframe with 0s. Pd with no nans\n",
    "\n",
    "wd.fillna(0, inplace=True)"
   ]
  },
  {
   "cell_type": "code",
   "execution_count": 121,
   "id": "60a5b145-e587-4df6-8289-95030af790c1",
   "metadata": {},
   "outputs": [
    {
     "name": "stdout",
     "output_type": "stream",
     "text": [
      "Q9 - There were 671 observations made in February\n"
     ]
    }
   ],
   "source": [
    "#%% Numpy Data Filtering/Sorting Question Answering\n",
    "#Use weather_data_np\n",
    "#Q9 How many observations were made in Feburary? Int\n",
    "\n",
    "feb_month = wp[wp[:,3] == 2] #identify rows where month = 2 = February \n",
    "feb_obs = len(feb_month)\n",
    "\n",
    "print(f'Q9 - There were {feb_obs} observations made in February')"
   ]
  },
  {
   "cell_type": "code",
   "execution_count": 125,
   "id": "254a8c4c-4011-4fb4-bbab-93d94c5f2115",
   "metadata": {},
   "outputs": [
    {
     "name": "stdout",
     "output_type": "stream",
     "text": [
      "Q10 - The average humidity in February was: 62.918152011922515\n"
     ]
    }
   ],
   "source": [
    "#Question 10 What was the mean for humidity in February? Float\n",
    "#q_10\n",
    "\n",
    "feb_month_humid = wp[wp[:,3] == 2] #identify rows where month = 2 = February\n",
    "\n",
    "avg_humidity = feb_month_humid[:,8].mean() #Calculates the mean of the 9th column 'humidity' where month == February\n",
    "\n",
    "print(f'Q10 - The average humidity in February was: {avg_humidity}')\n"
   ]
  },
  {
   "cell_type": "code",
   "execution_count": 130,
   "id": "d83b7ba9-4415-48e0-8e38-067d7b498d12",
   "metadata": {},
   "outputs": [
    {
     "name": "stdout",
     "output_type": "stream",
     "text": [
      "Q11 - The std for humidity in February was: 20.33690087674334\n"
     ]
    }
   ],
   "source": [
    "#Question 11 What was the std for humidity in February? Float\n",
    "\n",
    "feb_month_std = wp[wp[:,3] == 2] #identify rows where month = 2 = February\n",
    "feb_humid_std = np.std(feb_month_std[:,8])\n",
    "\n",
    "print(f'Q11 - The std for humidity in February was: {feb_humid_std}')"
   ]
  }
 ],
 "metadata": {
  "kernelspec": {
   "display_name": "Python 3 (ipykernel)",
   "language": "python",
   "name": "python3"
  },
  "language_info": {
   "codemirror_mode": {
    "name": "ipython",
    "version": 3
   },
   "file_extension": ".py",
   "mimetype": "text/x-python",
   "name": "python",
   "nbconvert_exporter": "python",
   "pygments_lexer": "ipython3",
   "version": "3.12.5"
  }
 },
 "nbformat": 4,
 "nbformat_minor": 5
}
