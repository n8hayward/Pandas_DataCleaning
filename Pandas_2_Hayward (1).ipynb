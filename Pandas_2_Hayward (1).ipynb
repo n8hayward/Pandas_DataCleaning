{
 "cells": [
  {
   "cell_type": "code",
   "execution_count": 30,
   "id": "d129316e-a00a-4f38-a91f-74a7bad70783",
   "metadata": {},
   "outputs": [
    {
     "name": "stdout",
     "output_type": "stream",
     "text": [
      "Q1 - Euclidian distance is: 18.16590212458495\n"
     ]
    }
   ],
   "source": [
    "import pandas as pd\n",
    "import numpy as np\n",
    "\n",
    "#Q1: Compute the euclidean distance between series (points) p and q, without using a packaged formula.\n",
    "\n",
    "p = pd.Series([1, 2, 3, 4, 5, 6, 7, 8, 9, 10])\n",
    "q = pd.Series([10, 9, 8, 7, 6, 5, 4, 3, 2, 1])\n",
    "\n",
    "pq_diff = p - q #difference between p and q\n",
    "sq_diff = pq_diff * pq_diff #square of the difference p - q\n",
    "sum_sq = sq_diff.sum() #sum of the squared differences\n",
    "sqrt_sum = sum_sq ** 0.5 #square root of the sum of the squared distances \n",
    "\n",
    "print('Q1 - Euclidian distance is:', sqrt_sum)"
   ]
  },
  {
   "cell_type": "code",
   "execution_count": 16,
   "id": "7803f091-7e9c-4970-a5be-c11717eec96e",
   "metadata": {},
   "outputs": [
    {
     "name": "stdout",
     "output_type": "stream",
     "text": [
      "    c   b   a   d   e\n",
      "0   2   1   0   3   4\n",
      "1   7   6   5   8   9\n",
      "2  12  11  10  13  14\n",
      "3  17  16  15  18  19\n"
     ]
    }
   ],
   "source": [
    "#Q2: Change the order of columns of a dataframe. Interchange columns 'a' and 'c'.\n",
    "\n",
    "df = pd.DataFrame(np.arange(20).reshape(-1, 5), columns=list('abcde')) #Initial input\n",
    "\n",
    "df = df[['c', 'b', 'a', 'd', 'e']] #Reshape\n",
    "\n",
    "print(df)"
   ]
  },
  {
   "cell_type": "code",
   "execution_count": 81,
   "id": "42ce64e7-3633-451b-bf33-8f713a84e7e0",
   "metadata": {},
   "outputs": [
    {
     "name": "stdout",
     "output_type": "stream",
     "text": [
      "    a   d   c   b   e\n",
      "0   0   3   2   1   4\n",
      "1   5   8   7   6   9\n",
      "2  10  13  12  11  14\n",
      "3  15  18  17  16  19\n"
     ]
    }
   ],
   "source": [
    "#Q3: Change the order of columns of a dataframe. Create a generic function to interchange two columns, without hardcoding column names.\n",
    "\n",
    "\n",
    "def switch_columns(df, x, y):\n",
    "\n",
    "    df_cols = df.columns.tolist() #Gets the position of the columns\n",
    "\n",
    "    x_index = df_cols.index(x) #Gets the index of the x input column\n",
    "    y_index = df_cols.index(y) #Gets the index of the y input column \n",
    "\n",
    "    df_cols[x_index], df_cols[y_index] = df_cols[y_index], df_cols[x_index]\n",
    "\n",
    "    return df[df_cols]\n",
    "\n",
    "df = pd.DataFrame(np.arange(20).reshape(-1, 5), columns=list('abcde'))\n",
    "\n",
    "swap = switch_columns(df, 'b', 'd')\n",
    "\n",
    "print(swap)\n",
    "   "
   ]
  },
  {
   "cell_type": "code",
   "execution_count": 38,
   "id": "6eb5e175-2f34-480c-adf4-5bf371ce16e7",
   "metadata": {},
   "outputs": [
    {
     "name": "stdout",
     "output_type": "stream",
     "text": [
      "   random\n",
      "0  0.0105\n",
      "1  0.0066\n",
      "2  0.0000\n",
      "3  0.6526\n"
     ]
    }
   ],
   "source": [
    "# Q4\n",
    "# Format or suppress scientific notations in a pandas dataframe. Suppress scientific notations like ‘e-03’ in df and\n",
    "# print upto 4 numbers after decimal.\n",
    "\n",
    "df = pd.DataFrame(np.random.random(4)**10, columns=['random'])\n",
    "\n",
    "df_suppress = df.round(4)\n",
    "print(df_suppress)\n"
   ]
  },
  {
   "cell_type": "code",
   "execution_count": 89,
   "id": "6f33b52e-4aff-4550-93ad-bb7550756bac",
   "metadata": {},
   "outputs": [
    {
     "name": "stdout",
     "output_type": "stream",
     "text": [
      "    p   q   r   s\n",
      "a  91  92  67  72\n",
      "b  79  80  84   2\n",
      "c  50  83  70  29\n",
      "d  20  23  94  87\n",
      "e  49  69  24  37\n",
      "f  12  85  93  84\n",
      "g   2  40  41  26\n",
      "h   4  10  47  58\n",
      "i  56  28  89  16\n",
      "j  35  28  61  56\n",
      "    p   q   r   s nearest_row\n",
      "a  91  92  67  72           c\n",
      "b  79  80  84   2           c\n",
      "c  50  83  70  29           b\n",
      "d  20  23  94  87           j\n",
      "e  49  69  24  37           c\n",
      "f  12  85  93  84           d\n",
      "g   2  40  41  26           h\n",
      "h   4  10  47  58           j\n",
      "i  56  28  89  16           j\n",
      "j  35  28  61  56           h\n"
     ]
    }
   ],
   "source": [
    "# Q5 \n",
    "# Create a new column that contains the row number of nearest column by euclidean distance. Create a new column\n",
    "# such that, each row contains the row number of nearest row-record by euclidean distance.\n",
    "\n",
    "\n",
    "df = pd.DataFrame(np.random.randint(1,100, 40).reshape(10, -1),\n",
    "columns=list('pqrs'), index=list('abcdefghij'))\n",
    "print(df)\n",
    "\n",
    "e_distance = pd.DataFrame(index = df.index, columns = df.index)\n",
    "\n",
    "\n",
    "for i in df.index:\n",
    "    row_vector = df.loc[i].values\n",
    "    for j in df.index:\n",
    "        if i != j:  # Skip self-comparison\n",
    "            col_vector = df.loc[j].values\n",
    "            e_distance.loc[i, j] = np.linalg.norm(row_vector - col_vector)\n",
    "        else:\n",
    "            e_distance.loc[i, j] = 99999  # Set self-distance as a number out of range of others \n",
    "\n",
    "# Find the nearest row for each row\n",
    "df['nearest_row'] = e_distance.idxmin(axis=1)\n",
    "\n",
    "# Display the DataFrame with the 'nearest_row' column\n",
    "print(df[['p', 'q', 'r', 's', 'nearest_row']])\n"
   ]
  },
  {
   "cell_type": "code",
   "execution_count": 56,
   "id": "305c9c6c-dc57-4c71-b41a-e04e5b9fc0b8",
   "metadata": {},
   "outputs": [
    {
     "name": "stdout",
     "output_type": "stream",
     "text": [
      "Q6 - Dictionary:\n",
      "\n",
      " {'A': [45, 37, 0, 42, 50], 'B': [38, 31, 1, 26, 90], 'C': [10, 15, -10, 17, 100], 'D': [60, 99, 15, 23, 56], 'E': [76, 98, -0.03, 78, 90]}\n",
      "\n",
      "Q6 - Correlation matrix:\n",
      "           A         B         C         D         E\n",
      "A  1.000000  0.756038  0.624390  0.493811  0.928600\n",
      "B  0.756038  1.000000  0.966733  0.363559  0.649558\n",
      "C  0.624390  0.966733  1.000000  0.218860  0.528068\n",
      "D  0.493811  0.363559  0.218860  1.000000  0.720177\n",
      "E  0.928600  0.649558  0.528068  0.720177  1.000000\n"
     ]
    }
   ],
   "source": [
    "# Q6 - dataframe.corr()\n",
    "    \n",
    "data = {'A': [45, 37, 0, 42, 50],\n",
    "'B': [38, 31, 1, 26, 90],\n",
    "'C': [10, 15, -10, 17, 100],\n",
    "'D': [60, 99, 15, 23, 56],\n",
    "'E': [76, 98, -0.03, 78, 90]}\n",
    "\n",
    "print('Q6 - Dictionary:\\n\\n', data)\n",
    "\n",
    "df = pd.DataFrame(data) #Convert dictionary to dataframe\n",
    "\n",
    "Q6 = df.corr() #creates correlation matrix\n",
    "\n",
    "print('\\nQ6 - Correlation matrix:\\n', Q6)"
   ]
  }
 ],
 "metadata": {
  "kernelspec": {
   "display_name": "Python 3 (ipykernel)",
   "language": "python",
   "name": "python3"
  },
  "language_info": {
   "codemirror_mode": {
    "name": "ipython",
    "version": 3
   },
   "file_extension": ".py",
   "mimetype": "text/x-python",
   "name": "python",
   "nbconvert_exporter": "python",
   "pygments_lexer": "ipython3",
   "version": "3.12.5"
  }
 },
 "nbformat": 4,
 "nbformat_minor": 5
}
